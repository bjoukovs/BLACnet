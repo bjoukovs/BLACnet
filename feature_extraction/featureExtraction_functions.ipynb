{
 "cells": [
  {
   "cell_type": "code",
   "execution_count": 5,
   "metadata": {},
   "outputs": [],
   "source": [
    "from sklearn.feature_extraction.text import TfidfVectorizer\n",
    "import numpy as np\n",
    "from scipy.sparse import csr_matrix\n",
    "\n",
    "def tf_idf(S_list,cut):\n",
    "    \"\"\"\n",
    "    Inputs: \n",
    "        - S_list: list of strings\n",
    "        - cut: boolean: if True, cuts the feature vector halfways, if False, don't cut\n",
    "    Output:\n",
    "        - vec: vector containing the top-K tf-idf scores, in descending order, among the document constituted from the strings in S_list\n",
    "    \"\"\"\n",
    "\n",
    "    vectorizer = TfidfVectorizer()\n",
    "    response = vectorizer.fit_transform(S_list)\n",
    "\n",
    "    # Extraction to a vector\n",
    "    array = response.toarray()\n",
    "    vec = array[np.nonzero(array)]\n",
    "    \n",
    "    if cut:\n",
    "        # Keep half the length\n",
    "        K = int(len(vec)/2);\n",
    "\n",
    "        # Keep the K top terms\n",
    "        vec[::-1].sort()\n",
    "        vec = vec[0:K]\n",
    "    \n",
    "    return vec"
   ]
  },
  {
   "cell_type": "code",
   "execution_count": null,
   "metadata": {},
   "outputs": [],
   "source": []
  }
 ],
 "metadata": {
  "kernelspec": {
   "display_name": "Python 3",
   "language": "python",
   "name": "python3"
  },
  "language_info": {
   "codemirror_mode": {
    "name": "ipython",
    "version": 3
   },
   "file_extension": ".py",
   "mimetype": "text/x-python",
   "name": "python",
   "nbconvert_exporter": "python",
   "pygments_lexer": "ipython3",
   "version": "3.5.6"
  }
 },
 "nbformat": 4,
 "nbformat_minor": 2
}
