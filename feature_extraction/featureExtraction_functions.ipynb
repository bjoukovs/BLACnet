{
 "cells": [
  {
   "cell_type": "code",
   "execution_count": 5,
   "metadata": {
    "collapsed": false
   },
   "outputs": [],
   "source": [
    "from sklearn.feature_extraction.text import TfidfVectorizer\n",
    "import numpy as np\n",
    "from scipy.sparse import csr_matrix\n",
    "\n",
    "def tf_idf(S_list,cut):\n",
    "    \"\"\"\n",
    "    Inputs: \n",
    "        - S_list: list of strings\n",
    "        - cut: boolean: if True, cuts the feature vector halfways, if False, don't cut\n",
    "    Output:\n",
    "        - vec: vector containing the top-K tf-idf scores, in descending order, among the document constituted from the strings in S_list\n",
    "    \"\"\"\n",
    "\n",
    "    vectorizer = TfidfVectorizer()\n",
    "    response = vectorizer.fit_transform(S_list)\n",
    "\n",
    "    # Extraction to a vector\n",
    "    array = response.toarray()\n",
    "    vec = array[np.nonzero(array)]\n",
    "    \n",
    "    if cut:\n",
    "        # Keep half the length\n",
    "        K = int(len(vec)/2);\n",
    "\n",
    "        # Keep the K top terms\n",
    "        vec[::-1].sort()\n",
    "        vec = vec[0:K]\n",
    "    \n",
    "    return vec\n",
    "\n",
    "\n",
    "\n",
    "\n",
    "def get_max_interval(S_list_intervals):\n",
    "\n",
    "    \"\"\"\n",
    "    Function taking as argument a list of tweets, where\n",
    "    each element of the list corresponds to tweets belonging to the same time interval. It returns the\n",
    "    longest continuous interval.\n",
    "    \"\"\"\n",
    "\n",
    "    continuous_intervals=[]\n",
    "    count_list=[]\n",
    "    temp=[]\n",
    "    count=0\n",
    "    for elem in S_list_intervals: \n",
    "        if(elem==[]):\n",
    "            if(temp!=[]):\n",
    "                continuous_intervals.append(temp)\n",
    "                count_list.append(count)\n",
    "            temp=[]\n",
    "            count=0\n",
    "        else:\n",
    "            temp.append(elem)\n",
    "            count+=1\n",
    "            if(elem==S_list_intervals[-1]):\n",
    "                continuous_intervals.append(temp)\n",
    "                count_list.append(count)\n",
    "\n",
    "    count_list=np.array(count_list)\n",
    "    idx_max = np.argmax(count_list)\n",
    "    max_interval = continuous_intervals[idx_max]\n",
    "    \n",
    "\n",
    "\n",
    "    return max_interval,count_list[max_interval]\n",
    "\n",
    "\n",
    "\n",
    "\n",
    "\n"
   ]
  },
  {
   "cell_type": "code",
   "execution_count": null,
   "metadata": {
    "collapsed": true
   },
   "outputs": [],
   "source": []
  }
 ],
 "metadata": {
  "kernelspec": {
   "display_name": "Python 3",
   "language": "python",
   "name": "python3"
  },
  "language_info": {
   "codemirror_mode": {
    "name": "ipython",
    "version": 3
   },
   "file_extension": ".py",
   "mimetype": "text/x-python",
   "name": "python",
   "nbconvert_exporter": "python",
   "pygments_lexer": "ipython3",
   "version": "3.6.0"
  }
 },
 "nbformat": 4,
 "nbformat_minor": 2
}
