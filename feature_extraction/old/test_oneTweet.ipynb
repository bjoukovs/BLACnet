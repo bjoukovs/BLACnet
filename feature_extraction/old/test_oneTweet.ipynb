{
 "cells": [
  {
   "cell_type": "code",
   "execution_count": null,
   "metadata": {},
   "outputs": [],
   "source": [
    "# Utiliser la classe CQRI de Boris pour extraire un tweet, car cela permet d'accéder au label \"vrai\" ou \"fake\""
   ]
  },
  {
   "cell_type": "code",
   "execution_count": 13,
   "metadata": {},
   "outputs": [],
   "source": [
    "import json\n",
    "import datetime"
   ]
  },
  {
   "cell_type": "code",
   "execution_count": 14,
   "metadata": {},
   "outputs": [],
   "source": [
    "    def get_tweets(json_path):\n",
    "\n",
    "        '''\n",
    "\n",
    "        :param json_path: path ot .json file of event id\n",
    "        :return: dictionnary    key=tweet id\n",
    "                                val=(date in datetime format, tweet string)\n",
    "        '''\n",
    "\n",
    "        with open(json_path, 'r') as myfile:\n",
    "            dict = json.loads(myfile.read())\n",
    "\n",
    "        #Conversion of dates to datetime\n",
    "        for key, val in dict.items():\n",
    "            if val[0] is not None:\n",
    "\n",
    "                metadata = val[0]\n",
    "                #Some tweets have date + location, extract date only\n",
    "                if '\\n' in metadata:\n",
    "                    metadata = metadata.split('\\n')[0]\n",
    "\n",
    "                date_parsed = datetime.datetime.strptime(metadata, '%H:%M %p - %d %b %Y')\n",
    "                dict[key][0] = date_parsed\n",
    "\n",
    "\n",
    "        return dict"
   ]
  },
  {
   "cell_type": "code",
   "execution_count": 15,
   "metadata": {},
   "outputs": [
    {
     "name": "stdout",
     "output_type": "stream",
     "text": [
      "Air France says at least 1 Canadian on board plane that flew into 'wall of storms' somewhere over the Atlantic Ocean between Brazil & Africa\n"
     ]
    }
   ],
   "source": [
    "test_dict = get_tweets(\"Airfrance.json\")\n",
    "#print(test_dict)\n",
    "first_key = next(iter(test_dict))\n",
    "date,text = test_dict[first_key]\n",
    "print(text)"
   ]
  },
  {
   "cell_type": "code",
   "execution_count": null,
   "metadata": {},
   "outputs": [],
   "source": []
  }
 ],
 "metadata": {
  "kernelspec": {
   "display_name": "Python 3",
   "language": "python",
   "name": "python3"
  },
  "language_info": {
   "codemirror_mode": {
    "name": "ipython",
    "version": 3
   },
   "file_extension": ".py",
   "mimetype": "text/x-python",
   "name": "python",
   "nbconvert_exporter": "python",
   "pygments_lexer": "ipython3",
   "version": "3.5.6"
  }
 },
 "nbformat": 4,
 "nbformat_minor": 2
}
