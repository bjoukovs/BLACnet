{
 "cells": [
  {
   "cell_type": "code",
   "execution_count": null,
   "metadata": {
    "collapsed": true
   },
   "outputs": [],
   "source": [
    "# Run it with Python3"
   ]
  },
  {
   "cell_type": "code",
   "execution_count": 49,
   "metadata": {
    "collapsed": false
   },
   "outputs": [
    {
     "ename": "ImportError",
     "evalue": "cannot import name 'get_max_interval'",
     "output_type": "error",
     "traceback": [
      "\u001b[0;31m---------------------------------------------------------------------------\u001b[0m",
      "\u001b[0;31mImportError\u001b[0m                               Traceback (most recent call last)",
      "\u001b[0;32m<ipython-input-49-c21d03c0e609>\u001b[0m in \u001b[0;36m<module>\u001b[0;34m()\u001b[0m\n\u001b[1;32m     15\u001b[0m \u001b[1;32mimport\u001b[0m \u001b[0mimport_ipynb\u001b[0m \u001b[1;31m# Remove if you don't use Jupyter\u001b[0m\u001b[1;33m\u001b[0m\u001b[0m\n\u001b[1;32m     16\u001b[0m \u001b[1;32mfrom\u001b[0m \u001b[0mfeatureExtraction_functions\u001b[0m \u001b[1;32mimport\u001b[0m \u001b[0mtf_idf\u001b[0m \u001b[1;31m# Remove if you don't use Jupyter\u001b[0m\u001b[1;33m\u001b[0m\u001b[0m\n\u001b[0;32m---> 17\u001b[0;31m \u001b[1;32mfrom\u001b[0m \u001b[0mfeatureExtraction_functions\u001b[0m \u001b[1;32mimport\u001b[0m \u001b[0mget_max_interval\u001b[0m\u001b[1;33m\u001b[0m\u001b[0m\n\u001b[0m\u001b[1;32m     18\u001b[0m \u001b[1;33m\u001b[0m\u001b[0m\n\u001b[1;32m     19\u001b[0m \u001b[1;31m# Python utility tools\u001b[0m\u001b[1;33m\u001b[0m\u001b[1;33m\u001b[0m\u001b[0m\n",
      "\u001b[0;31mImportError\u001b[0m: cannot import name 'get_max_interval'"
     ]
    }
   ],
   "source": [
    "#Append path\n",
    "import sys\n",
    "sys.path.append('../dataset')\n",
    "sys.path.append('..')\n",
    "\n",
    "# CQRI to get tweets\n",
    "from QCRI import CQRI\n",
    "\n",
    "# Librairies for computations and ML\n",
    "from sklearn.feature_extraction.text import TfidfVectorizer\n",
    "import numpy as np\n",
    "from scipy.sparse import csr_matrix\n",
    "\n",
    "# Functions\n",
    "import import_ipynb # Remove if you don't use Jupyter\n",
    "from featureExtraction_functions import tf_idf # Remove if you don't use Jupyter\n",
    "from featureExtraction_functions import get_max_interval\n",
    "\n",
    "# Python utility tools \n",
    "import re # to remove URL's from tweets\n",
    "import datetime,time\n",
    "import string"
   ]
  },
  {
   "cell_type": "code",
   "execution_count": 47,
   "metadata": {
    "collapsed": true
   },
   "outputs": [],
   "source": [
    "# Extract events ID\n",
    "dataset = CQRI('../twitter.txt')\n",
    "events = dataset.get_dict()   # start Jupyter with the command line: --NotebookApp.iopub_data_rate_limit=10000000000\n",
    "                              # for ex.: ipython3 notebook --NotebookApp.iopub_data_rate_limit=10000000000\n",
    "#print(events)\n",
    "\n",
    "\n",
    "# Parameters\n",
    "\n",
    "N=12 #initial number of intervals"
   ]
  },
  {
   "cell_type": "code",
   "execution_count": 48,
   "metadata": {
    "collapsed": false
   },
   "outputs": [
    {
     "name": "stdout",
     "output_type": "stream",
     "text": [
      "[['Augusta County schools closed Friday after parental outrage over Arabic assignment\\xa0', 'Augusta County schools closed Friday after parental outrage over Arabic assignment \\xa0pic.twitter.com/PPPv1glGCW', 'Augusta County schools closed Friday after parental outrage over Arabic\\xa0assignment \\xa0…pic.twitter.com/zYF6DqbRS6', 'Augusta County schools closed Friday after parental outrage over Arabic assignment\\xa0', 'Snopes- Augusta County Schools Close Over Controversial Arabic Assignment\\xa0', 'Augusta County Schools Close Over Controversial Arabic Assignment: Augusta County schools were forced to cance...\\xa0', 'Augusta County Schools Close Over Controversial Arabic Assignment \\xa0…pic.twitter.com/FBDUx4gXND', 'smdh -- Augusta County schools closed Friday after parental outrage over Arabic assignment \\xa0 via ', 'Augusta County Schools Close Over Controversial Arabic Assignment\\xa0', 'Augusta County Schools Close Over Controversial Arabic Assignment: Augusta County schools were forced to cance...\\xa0', 'Augusta County Schools Close Over Controversial Arabic Assignment\\xa0', 'Augusta County Schools Close Over Controversial Arabic Assignment -  \\xa0…pic.twitter.com/1eUz3WbMeR', 'Augusta County Schools Close Over Controversial Arabic\\xa0Assignment \\xa0…pic.twitter.com/ohoicohgDZ', 'Augusta County Schools Close Over Controversial Arabic Assignment\\xa0', 'Augusta County, VA schools closed Friday after parental outrage over Arabic assignment | \\xa0\\xa0…', 'Augusta County schools closed Friday after parental outrage over Arabic assignment \\xa0 via ', 'Augusta County schools closed Friday after parental outrage over Arabic assignment \\xa0… \\xa0…'], [], ['Augusta County Schools Close Over Controversial Arabic Assignment \\xa0 via  #snopes', 'Augusta County Schools Close Over Controversial Arabic Assignment: Augusta County schools were forced to cance...\\xa0', 'Augusta County schools closed Friday after parental outrage over Arabic assignment\\xa0', ' Augusta County schools closed Friday after parental outrage over Arabic assignment \\xa0 via ', 'Virginia School District Closes After Backlash Over Arabic Assignment: The Augusta County school district in… \\xa0 | ', 'Virginia School District Closes After Backlash Over Arabic Assignment: The Augusta County school district in… \\xa0 | ', 'Virginia School District Closes After Backlash Over Arabic Assignment: The Augusta County school district in… \\xa0 | ', 'Virginia School District Closes After Backlash Over Arabic Assignment: The Augusta County school district in… \\xa0 | ', 'Virginia School District Closes After Backlash Over Arabic Assignment: The Augusta County school district in… \\xa0 | ', 'Virginia School District Closes After Backlash Over Arabic Assignment: The Augusta County school district in… \\xa0 | ', 'Virginia School District Closes After Backlash Over Arabic Assignment: The Augusta County school district in… \\xa0 | ', 'Virginia School District Closes After Backlash Over Arabic Assignment: The Augusta County school district in… \\xa0 | ', 'Virginia School District Closes After Backlash Over Arabic Assignment: The Augusta County school district in… \\xa0 | ', 'Virginia School District Closes After Backlash Over Arabic Assignment: The Augusta County school district in… \\xa0 | ', 'Virginia School District Closes After Backlash Over Arabic Assignment: The Augusta County school district in… \\xa0 | ', 'Virginia School District Closes After Backlash Over Arabic Assignment: The Augusta County school district in… \\xa0 | ', 'Virginia School District Closes After Backlash Over Arabic Assignment: The Augusta County school district in… \\xa0 | ', 'Virginia School District Closes After Backlash Over Arabic Assignment: The Augusta County school district in… \\xa0 | ', 'Virginia School District Closes After Backlash Over Arabic Assignment: The Augusta County school district in… \\xa0 | ', 'Virginia School District Closes After Backlash Over Arabic Assignment: The Augusta County school district in… \\xa0 | ', 'Virginia School District Closes After Backlash Over Arabic Assignment: The Augusta County school district in… \\xa0 | ', 'Virginia School District Closes After Backlash Over Arabic Assignment: The Augusta County school district in… \\xa0 | ', 'Virginia School District Closes After Backlash Over Arabic Assignment: The Augusta County school district in… \\xa0 | ', 'Virginia School District Closes After Backlash Over Arabic Assignment: The Augusta County school district in… \\xa0 | ', 'Virginia School District Closes After Backlash Over Arabic Assignment: The Augusta County school district in… \\xa0 | ', 'Virginia School District Closes After Backlash Over Arabic Assignment: The Augusta County school district in… \\xa0 | ', 'Virginia School District Closes After Backlash Over Arabic Assignment: The Augusta County school district in… \\xa0 | ', 'Virginia School District Closes After Backlash Over Arabic Assignment: The Augusta County school district in… \\xa0 | ', 'Virginia School District Closes After Backlash Over Arabic Assignment: The Augusta County school district in… \\xa0 | ', 'Virginia School District Closes After Backlash Over Arabic Assignment: The Augusta County school district in… \\xa0 | ', 'Virginia School District Closes After Backlash Over Arabic Assignment: The Augusta County school district in… \\xa0 | ', 'Virginia School District Closes After Backlash Over Arabic Assignment: The Augusta County school district in… \\xa0 | ', 'Virginia School District Closes After Backlash Over Arabic Assignment: The Augusta County school district in… \\xa0 | ', 'Virginia School District Closes After Backlash Over Arabic Assignment: The Augusta County school district in… \\xa0 | ', 'Virginia School District Closes After Backlash Over Arabic Assignment: The Augusta County school district in… \\xa0 | ', 'Virginia School District Closes After Backlash Over Arabic Assignment: The Augusta County school district in… \\xa0 | ', 'Virginia School District Closes After Backlash Over Arabic Assignment: The Augusta County school district in… \\xa0 | ', 'Virginia School District Closes After Backlash Over Arabic Assignment: The Augusta County school district in… \\xa0 | ', 'Virginia School District Closes After Backlash Over Arabic Assignment: The Augusta County school district in… \\xa0 | ', 'Virginia School District Closes After Backlash Over Arabic Assignment: The Augusta County school district in… \\xa0 | ', 'Virginia School District Closes After Backlash Over Arabic Assignment: The Augusta County school district in… \\xa0 | ', 'Virginia School District Closes After Backlash Over Arabic Assignment: The Augusta County school district in… \\xa0 | ', 'Virginia School District Closes After Backlash Over Arabic Assignment: The Augusta County school district in… \\xa0 | ', 'Virginia School District Closes After Backlash Over Arabic Assignment: The Augusta County school district in… \\xa0 | ', 'Virginia School District Closes After Backlash Over Arabic Assignment: The Augusta County school district in… \\xa0 | ', 'Virginia School District Closes After Backlash Over Arabic Assignment: The Augusta County school district in… \\xa0 | ', 'Virginia School District Closes After Backlash Over Arabic Assignment: The Augusta County school district in… \\xa0 | ', 'Virginia School District Closes After Backlash Over Arabic Assignment: The Augusta County school district in… \\xa0 | ', 'Virginia School District Closes After Backlash Over Arabic Assignment: The Augusta County school district in… \\xa0 | ', 'Virginia School District Closes After Backlash Over Arabic Assignment: The Augusta County school district in… \\xa0 | ', 'Virginia School District Closes After Backlash Over Arabic Assignment: The Augusta County school district in… \\xa0 | ', 'Virginia School District Closes After Backlash Over Arabic Assignment: The Augusta County school district in… \\xa0 | ', 'Virginia School District Closes After Backlash Over Arabic Assignment: The Augusta County school district in… \\xa0 | ', 'Virginia School District Closes After Backlash Over Arabic Assignment: The Augusta County school district in… \\xa0 | ', 'Virginia School District Closes After Backlash Over Arabic Assignment: The Augusta County school district in… \\xa0 | ', 'Virginia School District Closes After Backlash Over Arabic Assignment: The Augusta County school district in… \\xa0 | ', 'Virginia School District Closes After Backlash Over Arabic Assignment: The Augusta County school district in… \\xa0 | ', 'Virginia School District Closes After Backlash Over Arabic Assignment: The Augusta County school district in… \\xa0 | ', 'Virginia School District Closes After Backlash Over Arabic Assignment: The Augusta County school district in… \\xa0 | ', 'Virginia School District Closes After Backlash Over Arabic Assignment: The Augusta County school district in… \\xa0 | ', 'Virginia School District Closes After Backlash Over Arabic Assignment: The Augusta County school district in… \\xa0 | ', 'Virginia School District Closes After Backlash Over Arabic Assignment: The Augusta County school district in… \\xa0 | ', 'Virginia School District Closes After Backlash Over Arabic Assignment: The Augusta County school district in… \\xa0 | ', 'Virginia School District Closes After Backlash Over Arabic Assignment: The Augusta County school district in… \\xa0 | ', 'Virginia School District Closes After Backlash Over Arabic Assignment: The Augusta County school district in… \\xa0 | ', 'Virginia School District Closes After Backlash Over Arabic Assignment: The Augusta County school district in… \\xa0 | ', 'Virginia School District Closes After Backlash Over Arabic Assignment: The Augusta County school district in… \\xa0 | ', 'Virginia School District Closes After Backlash Over Arabic Assignment: The Augusta County school district in… \\xa0 | ', 'Virginia School District Closes After Backlash Over Arabic Assignment: The Augusta County school district in… \\xa0 | ', 'Virginia School District Closes After Backlash Over Arabic Assignment: The Augusta County school district in… \\xa0 | ', 'Virginia School District Closes After Backlash Over Arabic Assignment: The Augusta County school district in… \\xa0 | ', 'Virginia School District Closes After Backlash Over Arabic Assignment: The Augusta County school district in… \\xa0 | ', 'Virginia School District Closes After Backlash Over Arabic Assignment: The Augusta County school district in… \\xa0 | ', 'Virginia School District Closes After Backlash Over Arabic Assignment: The Augusta County school district in… \\xa0 | ', 'Virginia School District Closes After Backlash Over Arabic Assignment: The Augusta County school district in… \\xa0 | ', 'Virginia School District Closes After Backlash Over Arabic Assignment: The Augusta County school district in… \\xa0 | ', 'Virginia School District Closes After Backlash Over Arabic Assignment: The Augusta County school district in… \\xa0 | ', 'Virginia School District Closes After Backlash Over Arabic Assignment: The Augusta County school district in… \\xa0 | ', 'Virginia School District Closes After Backlash Over Arabic Assignment: The Augusta County school district in… \\xa0 | ', 'Virginia School District Closes After Backlash Over Arabic Assignment: The Augusta County school district in… \\xa0 | ', 'Virginia School District Closes After Backlash Over Arabic Assignment: The Augusta County school district in… \\xa0 | ', 'Virginia School District Closes After Backlash Over Arabic Assignment: The Augusta County school district in… \\xa0 | ', 'Virginia School District Closes After Backlash Over Arabic Assignment: The Augusta County school district in… \\xa0 | ', 'Virginia School District Closes After Backlash Over Arabic Assignment: The Augusta County school district in… \\xa0 | ', 'Virginia School District Closes After Backlash Over Arabic Assignment: The Augusta County school district in… \\xa0 | ', 'Virginia School District Closes After Backlash Over Arabic Assignment: The Augusta County school district in… \\xa0 | ', 'Virginia School District Closes After Backlash Over Arabic Assignment: The Augusta County school district in… \\xa0 | ', 'Virginia School District Closes After Backlash Over Arabic Assignment: The Augusta County school district in… \\xa0 | ', 'Virginia School District Closes After Backlash Over Arabic Assignment: The Augusta County school district in… \\xa0 | ', 'Virginia School District Closes After Backlash Over Arabic Assignment: The Augusta County school district in… \\xa0 | ', 'Virginia School District Closes After Backlash Over Arabic Assignment: The Augusta County school district in… \\xa0 | ', 'Virginia School District Closes After Backlash Over Arabic Assignment: The Augusta County school district in… \\xa0 | ', 'Virginia School District Closes After Backlash Over Arabic Assignment: The Augusta County school district in… \\xa0 | ', 'Virginia School District Closes After Backlash Over Arabic Assignment: The Augusta County school district in… \\xa0 | ', 'Virginia School District Closes After Backlash Over Arabic Assignment: The Augusta County school district in… \\xa0 | ', 'Virginia School District Closes After Backlash Over Arabic Assignment: The Augusta County school district in… \\xa0 | ', 'Virginia School District Closes After Backlash Over Arabic Assignment: The Augusta County school district in… \\xa0 | ', 'Virginia School District Closes After Backlash Over Arabic Assignment: The Augusta County school district in… \\xa0 | ', 'Virginia School District Closes After Backlash Over Arabic Assignment: The Augusta County school district in… \\xa0 | ', 'Virginia School District Closes After Backlash Over Arabic Assignment: The Augusta County school district in… \\xa0 | ', 'Virginia School District Closes After Backlash Over Arabic Assignment: The Augusta County school district in… \\xa0 | ', 'Virginia School District Closes After Backlash Over Arabic Assignment: The Augusta County school district in… \\xa0 | ', 'Virginia School District Closes After Backlash Over Arabic Assignment: The Augusta County school district in… \\xa0 | ', 'Virginia School District Closes After Backlash Over Arabic Assignment: The Augusta County school district in… \\xa0 | ', 'Virginia School District Closes After Backlash Over Arabic Assignment: The Augusta County school district in… \\xa0 | ', 'Virginia School District Closes After Backlash Over Arabic Assignment: The Augusta County school district in… \\xa0 | ', 'Virginia School District Closes After Backlash Over Arabic Assignment: The Augusta County school district in… \\xa0 | ', 'Virginia School District Closes After Backlash Over Arabic Assignment: The Augusta County school district in… \\xa0 | ', 'Virginia School District Closes After Backlash Over Arabic Assignment: The Augusta County school district in… \\xa0 | ', 'Virginia School District Closes After Backlash Over Arabic Assignment: The Augusta County school district in… \\xa0 | ', 'Virginia School District Closes After Backlash Over Arabic Assignment: The Augusta County school district in… \\xa0 | ', 'Virginia School District Closes After Backlash Over Arabic Assignment: The Augusta County school district in… \\xa0 | ', 'Virginia School District Closes After Backlash Over Arabic Assignment: The Augusta County school district in… \\xa0 | ', 'Virginia School District Closes After Backlash Over Arabic Assignment: The Augusta County school district in… \\xa0 | ', 'Augusta County schools closed Friday after parental outrage over Arabic assignment \\xa0 via ', 'Virginia School District Closes After Backlash Over Arabic Assignment: The Augusta County school district... \\xa0 #LVN', 'Virginia School District Closes After Backlash Over Arabic Assignment: The Augusta County school district in… \\xa0 | ', 'Virginia School District Closes After Backlash Over Arabic Assignment: The Augusta County school district in… \\xa0 | ', 'Augusta County schools closed Friday after parental outrage over Arabic assignment  \\xa0…'], ['#tcot #ccot #LNYHBT #TeaParty Augusta County schools closed Friday after parental outrage over Arabic assignment\\xa0'], [], ['Augusta County schools closed Friday after parental outrage over Arabic assignment | \\xa0\\xa0', 'Augusta County schools closed Friday after parental outrage over Arabic assignment \\xa0'], [], [], [], [], [], ['Augusta County Schools Close Over Controversial Arabic Assignment\\xa0']]\n"
     ]
    },
    {
     "ename": "NameError",
     "evalue": "name 'get_max_interval' is not defined",
     "output_type": "error",
     "traceback": [
      "\u001b[0;31m---------------------------------------------------------------------------\u001b[0m",
      "\u001b[0;31mNameError\u001b[0m                                 Traceback (most recent call last)",
      "\u001b[0;32m<ipython-input-48-de7910cc2797>\u001b[0m in \u001b[0;36m<module>\u001b[0;34m()\u001b[0m\n\u001b[1;32m     60\u001b[0m \u001b[1;33m\u001b[0m\u001b[0m\n\u001b[1;32m     61\u001b[0m \u001b[1;33m\u001b[0m\u001b[0m\n\u001b[0;32m---> 62\u001b[0;31m     \u001b[0mmax_interval\u001b[0m\u001b[1;33m,\u001b[0m\u001b[0minterval_length\u001b[0m \u001b[1;33m=\u001b[0m \u001b[0mget_max_interval\u001b[0m\u001b[1;33m(\u001b[0m\u001b[0mS_list_intervals\u001b[0m\u001b[1;33m)\u001b[0m\u001b[1;33m\u001b[0m\u001b[0m\n\u001b[0m\u001b[1;32m     63\u001b[0m \u001b[1;33m\u001b[0m\u001b[0m\n\u001b[1;32m     64\u001b[0m     \u001b[1;32mbreak\u001b[0m \u001b[1;31m# TO TEST ONLY ONE EVENT\u001b[0m\u001b[1;33m\u001b[0m\u001b[0m\n",
      "\u001b[0;31mNameError\u001b[0m: name 'get_max_interval' is not defined"
     ]
    }
   ],
   "source": [
    "for keyEvent in events:\n",
    "    dico = dataset.get_tweets('events/'+keyEvent+'.json')\n",
    "    #print(dico)\n",
    "\n",
    "    S_list = [];\n",
    "    date_list = [];\n",
    "\n",
    "    for keyTweet in dico:           #iterates over the keys\n",
    "        date,text = dico[keyTweet]\n",
    "        #print(date)\n",
    "\n",
    "        if type(text) == str and type(date) == datetime.datetime:  # because sometimes text is just nothing, so of type None\n",
    "            text = re.sub(r\"http\\S+\", \"\", text) # remove URL's\n",
    "            text = re.sub(r\"@\\S+\",\"\",text)     # Optional: remove user names\n",
    "            #text=re.sub(r\"\\\\xa0\\S+\",\"\",text)\n",
    "            S_list.append(text)\n",
    "\n",
    "            date = time.mktime(date.timetuple()) # number of seconds since 1 January 1970\n",
    "            date_list.append(date)\n",
    "\n",
    "    idx = np.argsort(date_list)\n",
    "    date_list=np.array(date_list)\n",
    "    date_list=date_list[idx] # final list is a numpy array sorted in ascending order\n",
    "\n",
    "    S_list_sorted=[0]*len(S_list)\n",
    "    for i in range(0,len(S_list)):\n",
    "        S_list_sorted[i]=S_list[idx[i]]  # S_list is sorted in ascending order w.r.t the date values\n",
    "        \n",
    "    timeStart = date_list[0]\n",
    "    timeEnd = date_list[-1]\n",
    "    totalTimeInterval = timeEnd - timeStart\n",
    "    timeStep = totalTimeInterval / N  # in [seconds]\n",
    "    \n",
    "    if timeStep > totalTimeInterval:\n",
    "        print(\"timeStep > totalTimeInterval\")\n",
    "    \n",
    "    #print(S_list_sorted)\n",
    "    \n",
    "    S_list_intervals = []\n",
    "    i = 0\n",
    "    #for n in range(0,len(S_list_sorted)):\n",
    "    n = 0\n",
    "    timeUp = 0\n",
    "    while timeUp < timeStart + totalTimeInterval:\n",
    "        timeDown = timeStart + n * timeStep\n",
    "        timeUp = timeDown + timeStep\n",
    "        \n",
    "        interval = []\n",
    "        while i < len(date_list):\n",
    "            if date_list[i] <= timeUp and date_list[i] >= timeDown:\n",
    "                interval.append(S_list_sorted[i])\n",
    "                i += 1\n",
    "            else:\n",
    "                break\n",
    "        S_list_intervals.append(interval)\n",
    "        n += 1\n",
    "        \n",
    "    #S_list_intervalsR = [x for x in S_list_intervals if x!=[]]\n",
    "    print(S_list_intervals)\n",
    "    \n",
    "    \n",
    "    max_interval,interval_length = get_max_interval(S_list_intervals)\n",
    "    \n",
    "    break # TO TEST ONLY ONE EVENT"
   ]
  },
  {
   "cell_type": "code",
   "execution_count": 2,
   "metadata": {
    "collapsed": true
   },
   "outputs": [],
   "source": [
    "#features = tf_idf(S_list,True)   # to modify to take each interval separately\n",
    "#print(features)"
   ]
  }
 ],
 "metadata": {
  "kernelspec": {
   "display_name": "Python 3",
   "language": "python",
   "name": "python3"
  },
  "language_info": {
   "codemirror_mode": {
    "name": "ipython",
    "version": 3
   },
   "file_extension": ".py",
   "mimetype": "text/x-python",
   "name": "python",
   "nbconvert_exporter": "python",
   "pygments_lexer": "ipython3",
   "version": "3.6.0"
  }
 },
 "nbformat": 4,
 "nbformat_minor": 2
}
