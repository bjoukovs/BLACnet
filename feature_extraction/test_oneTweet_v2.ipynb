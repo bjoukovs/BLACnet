{
 "cells": [
  {
   "cell_type": "code",
   "execution_count": null,
   "metadata": {},
   "outputs": [],
   "source": [
    "# Run it with Python3"
   ]
  },
  {
   "cell_type": "code",
   "execution_count": 2,
   "metadata": {},
   "outputs": [
    {
     "name": "stdout",
     "output_type": "stream",
     "text": [
      "importing Jupyter notebook from featureExtraction_functions.ipynb\n"
     ]
    }
   ],
   "source": [
    "#Append path\n",
    "import sys\n",
    "sys.path.append('../dataset')\n",
    "sys.path.append('..')\n",
    "\n",
    "# CQRI to get tweets\n",
    "from QCRI import CQRI\n",
    "\n",
    "# Librairies for computations and ML\n",
    "from sklearn.feature_extraction.text import TfidfVectorizer\n",
    "import numpy as np\n",
    "from scipy.sparse import csr_matrix\n",
    "\n",
    "# Functions\n",
    "import import_ipynb # Remove if you don't use Jupyter\n",
    "from featureExtraction_functions import tf_idf # Remove if you don't use Jupyter\n",
    "\n",
    "# Python utility tools \n",
    "import re # to remove URL's from tweets\n",
    "import datetime,time"
   ]
  },
  {
   "cell_type": "code",
   "execution_count": 3,
   "metadata": {},
   "outputs": [],
   "source": [
    "# Extract events ID\n",
    "dataset = CQRI('../twitter.txt')\n",
    "events = dataset.get_dict()   # start Jupyter with the command line: --NotebookApp.iopub_data_rate_limit=10000000000\n",
    "                              # for ex.: ipython3 notebook --NotebookApp.iopub_data_rate_limit=10000000000\n",
    "#print(events)"
   ]
  },
  {
   "cell_type": "code",
   "execution_count": 10,
   "metadata": {},
   "outputs": [
    {
     "name": "stdout",
     "output_type": "stream",
     "text": [
      "[[\"Can't wait to show off my costume to trick-or-treaters: Guy Who Almost Didn't Open Door, But Did, Only To Inform Children He Has No Candy.\"], [], ['NO CANDY FOR BIGOTED CHILDREN'], ['No one is withholding candy from \"bigoted children\" dressed as cops or soldiers:\\n\\n\\xa0…pic.twitter.com/0VZoyd620I', 'No one is withholding candy from \"bigoted children\" dressed as cops or soldiers:\\n\\n\\xa0…pic.twitter.com/Ko3g2ASio8', 'urban legend: A satirical sign threatening to withhold Halloween candy from \"bigoted children\" caused offense ...\\xa0', 'Snopes- Candy Fascists\\xa0', 'Snopes: Candy Fascists: A satirical sign threatening to withhold Halloween candy from \"bigoted children\" cause...\\xa0', \"Yes, it's actually become this retarded. \\xa0…pic.twitter.com/if2v5W1S37\", 'No, that \"No Candy For Bigoted Children\" post is NOT a real thing #Debunked \\xa0pic.twitter.com/RcC6OZEVxM', 'No, that \"No Candy For Bigoted Children\" post is NOT a real thing #Debunked \\xa0pic.twitter.com/6NyA5li0Rl', 'Candy Fascists \\xa0…\\nAt least it was a joke, but sad that it is so damn plausible in our world. @DLoesch @WDWSthrnBelle', 'Sadly this is common now.\\xa0…'], ['No candy for bigoted children! No soup for you!!pic.twitter.com/ahRT5fXPVr', 'Calm down. No one is actually denying candy to child pirates for promoting rape culture. \\xa0…pic.twitter.com/5oGhhEMwNC', '@yoUofOh you gotta be kidding me', 'Candy Fascists\\xa0'], ['No candy for your bigoted children.\\n\\n@OpieRadiopic.twitter.com/3499jeOqtP', 'Candy Fascists \\xa0'], [], [], [], [], ['Payless Shoes store has \"No Candy\" sign because they are too cheap to accommodate children trick or treaters.', \"My fucking lights are off why are trick or treaters coming up to my house! I don't got no candy for you children\", 'omg i forgot i live in a real neighborhood with children now what if i get trick or treaters i have no candy'], [], [], [], [], [], [], [], [], [], [], ['@tregarthen67 @Twigolet @RobC_UK @bakerbee1 looking at the other images on that page I really hope it is parody']]\n"
     ]
    }
   ],
   "source": [
    "for keyEvent in events:\n",
    "    dico = dataset.get_tweets('events/'+keyEvent+'.json')\n",
    "    #print(dico)\n",
    "\n",
    "    S_list = [];\n",
    "    date_list = [];\n",
    "\n",
    "    for keyTweet in dico:           #iterates over the keys\n",
    "        date,text = dico[keyTweet]\n",
    "        #print(date)\n",
    "\n",
    "        if type(text) == str and type(date) == datetime.datetime:  # because sometimes text is just nothing, so of type None\n",
    "            text = re.sub(r\"http\\S+\", \"\", text) # remove URL's\n",
    "            #text = re.sub(r\"@\\S+\",\"\",text)     # Optional: remove user names\n",
    "            S_list.append(text)\n",
    "\n",
    "            date = time.mktime(date.timetuple()) # number of seconds since 1 January 1970\n",
    "            date_list.append(date)\n",
    "\n",
    "    idx = np.argsort(date_list)\n",
    "    date_list=np.array(date_list)\n",
    "    date_list=date_list[idx] # final list is a numpy array sorted in ascending\n",
    "\n",
    "    S_list_sorted=[0]*len(S_list)\n",
    "    for i in range(0,len(S_list)):\n",
    "        S_list_sorted[i]=S_list[idx[i]]  # S_list is sorted in ascending order w.r.t the date values\n",
    "        \n",
    "    timeStart = date_list[0]\n",
    "    timeEnd = date_list[-1]\n",
    "    totalTimeInterval = timeEnd - timeStart\n",
    "    timeStep = totalTimeInterval / len(date_list)  # in [seconds]\n",
    "    \n",
    "    if timeStep > totalTimeInterval:\n",
    "        print(\"timeStep > totalTimeInterval\")\n",
    "    \n",
    "    #print(S_list_sorted)\n",
    "    \n",
    "    S_list_intervals = []\n",
    "    i = 0\n",
    "    #for n in range(0,len(S_list_sorted)):\n",
    "    n = 0\n",
    "    timeUp = 0\n",
    "    while timeUp < timeStart + totalTimeInterval:\n",
    "        timeDown = timeStart + n * timeStep\n",
    "        timeUp = timeDown + timeStep\n",
    "        \n",
    "        interval = []\n",
    "        while i < len(date_list):\n",
    "            if date_list[i] <= timeUp and date_list[i] >= timeDown:\n",
    "                interval.append(S_list_sorted[i])\n",
    "                i += 1\n",
    "            else:\n",
    "                break\n",
    "        S_list_intervals.append(interval)\n",
    "        n += 1\n",
    "        \n",
    "    #S_list_intervalsR = [x for x in S_list_intervals if x!=[]]\n",
    "    print(S_list_intervals)\n",
    "    \n",
    "    break # TO TEST ONLY ONE EVENT"
   ]
  },
  {
   "cell_type": "code",
   "execution_count": 11,
   "metadata": {},
   "outputs": [],
   "source": [
    "#features = tf_idf(S_list,True)   # to modify to take each interval separately\n",
    "#print(features)"
   ]
  },
  {
   "cell_type": "code",
   "execution_count": null,
   "metadata": {},
   "outputs": [],
   "source": []
  }
 ],
 "metadata": {
  "kernelspec": {
   "display_name": "Python 3",
   "language": "python",
   "name": "python3"
  },
  "language_info": {
   "codemirror_mode": {
    "name": "ipython",
    "version": 3
   },
   "file_extension": ".py",
   "mimetype": "text/x-python",
   "name": "python",
   "nbconvert_exporter": "python",
   "pygments_lexer": "ipython3",
   "version": "3.5.6"
  }
 },
 "nbformat": 4,
 "nbformat_minor": 2
}
